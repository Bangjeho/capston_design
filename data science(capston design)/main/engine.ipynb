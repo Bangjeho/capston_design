version https://git-lfs.github.com/spec/v1
oid sha256:a20cbf1f25ce9ba4e8ec88545cf2fb19719b85c470e5f37ae7b6c310d6eeac0f
size 3136
