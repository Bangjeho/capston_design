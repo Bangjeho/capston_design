version https://git-lfs.github.com/spec/v1
oid sha256:5fe6017a0e7ffc9b24062d7d07dc45b2657e99314564be01531e448840a0536a
size 5983
