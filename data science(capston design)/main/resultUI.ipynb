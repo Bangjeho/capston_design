version https://git-lfs.github.com/spec/v1
oid sha256:fd02634d6454ffa7b5dab95f835963dffa8a46f11700a058b37cf7809a82d16d
size 1618
