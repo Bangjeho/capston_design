version https://git-lfs.github.com/spec/v1
oid sha256:791830e55ee8f867499abae564ff679e02283d43ce0201c23c4accd41502b8ca
size 5980
