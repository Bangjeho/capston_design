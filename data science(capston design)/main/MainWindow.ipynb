version https://git-lfs.github.com/spec/v1
oid sha256:31adbaa4862988a35275c81dbd6d93d6469f1f87825c887b97cc7065306bea91
size 5990
