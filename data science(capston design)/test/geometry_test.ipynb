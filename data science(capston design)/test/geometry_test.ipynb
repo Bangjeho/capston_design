version https://git-lfs.github.com/spec/v1
oid sha256:a189ded93c050374534022833ac3aff15a4492b37fe3f581daadb52e8b8b5468
size 5971
