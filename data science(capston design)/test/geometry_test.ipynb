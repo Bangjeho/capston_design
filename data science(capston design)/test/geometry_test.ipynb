version https://git-lfs.github.com/spec/v1
oid sha256:0fa3ca3f7fff43ae03155d750cb439812a5c801e64763f8a4a61695649780faf
size 4173
