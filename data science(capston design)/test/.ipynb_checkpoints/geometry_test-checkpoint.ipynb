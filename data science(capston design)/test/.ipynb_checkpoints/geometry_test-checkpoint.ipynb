version https://git-lfs.github.com/spec/v1
oid sha256:51385f6907050d49d5ef12ff053f2e28c89515ebcb3517ecd45253e63ffd396a
size 4164
