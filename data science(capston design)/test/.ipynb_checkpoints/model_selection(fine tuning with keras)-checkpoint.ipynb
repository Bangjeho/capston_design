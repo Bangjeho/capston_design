version https://git-lfs.github.com/spec/v1
oid sha256:def0c9d8f47731aa0937d1586f1406c90e367e195c0452485134a6a9de300dc6
size 2508121
