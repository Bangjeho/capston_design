{
 "cells": [
  {
   "cell_type": "code",
   "execution_count": 1,
   "metadata": {},
   "outputs": [],
   "source": [
    "import pandas as pd\n",
    "import matplotlib.pyplot as plt\n",
    "from sklearn.ensemble import RandomForestRegressor\n",
    "from sklearn.model_selection import GridSearchCV\n",
    "from sklearn.metrics import mean_absolute_error\n",
    "import numpy as np"
   ]
  },
  {
   "cell_type": "code",
   "execution_count": 2,
   "metadata": {},
   "outputs": [],
   "source": [
    "train_X = pd.read_csv('Tk_train_X.csv')\n",
    "train_y = pd.read_csv('Tk_train_y.csv')\n",
    "train_val_X = pd.read_csv('Tk_train_val_X.csv')\n",
    "train_val_y = pd.read_csv('Tk_train_val_y.csv')\n",
    "valid_X = pd.read_csv('Tk_valid_X.csv')\n",
    "valid_y = pd.read_csv('Tk_valid_y.csv')\n",
    "test_X = pd.read_csv('Tk_test_X.csv')\n",
    "test_y = pd.read_csv('Tk_test_y.csv')"
   ]
  },
  {
   "cell_type": "code",
   "execution_count": 3,
   "metadata": {},
   "outputs": [
    {
     "name": "stdout",
     "output_type": "stream",
     "text": [
      "Fitting 5 folds for each of 440 candidates, totalling 2200 fits\n"
     ]
    },
    {
     "name": "stderr",
     "output_type": "stream",
     "text": [
      "[Parallel(n_jobs=-1)]: Using backend LokyBackend with 8 concurrent workers.\n",
      "[Parallel(n_jobs=-1)]: Done   2 tasks      | elapsed:    3.1s\n",
      "[Parallel(n_jobs=-1)]: Done   9 tasks      | elapsed:    4.2s\n",
      "[Parallel(n_jobs=-1)]: Done  16 tasks      | elapsed:    6.0s\n",
      "[Parallel(n_jobs=-1)]: Done  25 tasks      | elapsed:    9.8s\n",
      "[Parallel(n_jobs=-1)]: Done  34 tasks      | elapsed:   17.7s\n",
      "[Parallel(n_jobs=-1)]: Done  45 tasks      | elapsed:   27.6s\n",
      "[Parallel(n_jobs=-1)]: Done  56 tasks      | elapsed:   35.3s\n",
      "[Parallel(n_jobs=-1)]: Done  69 tasks      | elapsed:   39.4s\n",
      "[Parallel(n_jobs=-1)]: Done  82 tasks      | elapsed:   47.4s\n",
      "[Parallel(n_jobs=-1)]: Done  97 tasks      | elapsed:   59.8s\n",
      "[Parallel(n_jobs=-1)]: Done 112 tasks      | elapsed:  1.2min\n",
      "[Parallel(n_jobs=-1)]: Done 129 tasks      | elapsed:  1.3min\n",
      "[Parallel(n_jobs=-1)]: Done 146 tasks      | elapsed:  1.5min\n",
      "[Parallel(n_jobs=-1)]: Done 165 tasks      | elapsed:  1.8min\n",
      "[Parallel(n_jobs=-1)]: Done 184 tasks      | elapsed:  1.9min\n",
      "[Parallel(n_jobs=-1)]: Done 205 tasks      | elapsed:  2.4min\n",
      "[Parallel(n_jobs=-1)]: Done 226 tasks      | elapsed:  2.8min\n",
      "[Parallel(n_jobs=-1)]: Done 249 tasks      | elapsed:  3.1min\n",
      "[Parallel(n_jobs=-1)]: Done 272 tasks      | elapsed:  3.6min\n",
      "[Parallel(n_jobs=-1)]: Done 297 tasks      | elapsed:  3.8min\n",
      "[Parallel(n_jobs=-1)]: Done 322 tasks      | elapsed:  3.9min\n",
      "[Parallel(n_jobs=-1)]: Done 349 tasks      | elapsed:  4.0min\n",
      "[Parallel(n_jobs=-1)]: Done 376 tasks      | elapsed:  4.2min\n",
      "[Parallel(n_jobs=-1)]: Done 405 tasks      | elapsed:  4.3min\n",
      "[Parallel(n_jobs=-1)]: Done 434 tasks      | elapsed:  4.5min\n",
      "[Parallel(n_jobs=-1)]: Done 465 tasks      | elapsed:  4.6min\n",
      "[Parallel(n_jobs=-1)]: Done 496 tasks      | elapsed:  4.8min\n",
      "[Parallel(n_jobs=-1)]: Done 529 tasks      | elapsed:  5.0min\n",
      "[Parallel(n_jobs=-1)]: Done 562 tasks      | elapsed:  5.7min\n",
      "[Parallel(n_jobs=-1)]: Done 597 tasks      | elapsed:  9.5min\n",
      "[Parallel(n_jobs=-1)]: Done 632 tasks      | elapsed: 11.8min\n",
      "[Parallel(n_jobs=-1)]: Done 669 tasks      | elapsed: 15.5min\n",
      "[Parallel(n_jobs=-1)]: Done 706 tasks      | elapsed: 19.2min\n",
      "[Parallel(n_jobs=-1)]: Done 745 tasks      | elapsed: 24.9min\n",
      "[Parallel(n_jobs=-1)]: Done 784 tasks      | elapsed: 33.7min\n",
      "[Parallel(n_jobs=-1)]: Done 825 tasks      | elapsed: 42.5min\n",
      "[Parallel(n_jobs=-1)]: Done 866 tasks      | elapsed: 45.0min\n",
      "[Parallel(n_jobs=-1)]: Done 909 tasks      | elapsed: 46.5min\n",
      "[Parallel(n_jobs=-1)]: Done 952 tasks      | elapsed: 48.3min\n",
      "[Parallel(n_jobs=-1)]: Done 997 tasks      | elapsed: 50.4min\n",
      "[Parallel(n_jobs=-1)]: Done 1042 tasks      | elapsed: 55.0min\n",
      "[Parallel(n_jobs=-1)]: Done 1089 tasks      | elapsed: 59.3min\n",
      "[Parallel(n_jobs=-1)]: Done 1136 tasks      | elapsed: 60.9min\n",
      "[Parallel(n_jobs=-1)]: Done 1185 tasks      | elapsed: 61.5min\n",
      "[Parallel(n_jobs=-1)]: Done 1234 tasks      | elapsed: 62.1min\n",
      "[Parallel(n_jobs=-1)]: Done 1285 tasks      | elapsed: 62.9min\n",
      "[Parallel(n_jobs=-1)]: Done 1336 tasks      | elapsed: 64.2min\n",
      "[Parallel(n_jobs=-1)]: Done 1389 tasks      | elapsed: 65.3min\n",
      "[Parallel(n_jobs=-1)]: Done 1442 tasks      | elapsed: 65.5min\n",
      "[Parallel(n_jobs=-1)]: Done 1497 tasks      | elapsed: 65.8min\n",
      "[Parallel(n_jobs=-1)]: Done 1552 tasks      | elapsed: 66.0min\n",
      "[Parallel(n_jobs=-1)]: Done 1609 tasks      | elapsed: 66.3min\n",
      "[Parallel(n_jobs=-1)]: Done 1666 tasks      | elapsed: 68.1min\n",
      "[Parallel(n_jobs=-1)]: Done 1725 tasks      | elapsed: 78.0min\n",
      "[Parallel(n_jobs=-1)]: Done 1784 tasks      | elapsed: 88.1min\n",
      "[Parallel(n_jobs=-1)]: Done 1845 tasks      | elapsed: 103.6min\n",
      "[Parallel(n_jobs=-1)]: Done 1906 tasks      | elapsed: 129.2min\n",
      "[Parallel(n_jobs=-1)]: Done 1969 tasks      | elapsed: 142.9min\n",
      "[Parallel(n_jobs=-1)]: Done 2032 tasks      | elapsed: 148.2min\n",
      "[Parallel(n_jobs=-1)]: Done 2097 tasks      | elapsed: 153.6min\n",
      "[Parallel(n_jobs=-1)]: Done 2162 tasks      | elapsed: 166.0min\n",
      "[Parallel(n_jobs=-1)]: Done 2200 out of 2200 | elapsed: 175.8min finished\n",
      "C:\\Users\\entity\\Anaconda3\\envs\\capston_design\\lib\\site-packages\\sklearn\\model_selection\\_search.py:715: DataConversionWarning: A column-vector y was passed when a 1d array was expected. Please change the shape of y to (n_samples,), for example using ravel().\n",
      "  self.best_estimator_.fit(X, y, **fit_params)\n"
     ]
    },
    {
     "name": "stdout",
     "output_type": "stream",
     "text": [
      "-8.399133071604359\n",
      "{'bootstrap': True, 'criterion': 'mae', 'max_depth': None, 'max_features': 'log2', 'n_estimators': 700, 'random_state': 42}\n"
     ]
    }
   ],
   "source": [
    "parameters = { 'bootstrap' : [True,False],\n",
    "               'criterion' : ['mse','mae'],\n",
    "               'max_depth' : [None,3],\n",
    "               'max_features' : ['log2','sqrt',3,'auto',None],\n",
    "               'n_estimators' : [100,200,300,400,500,600,700,800,900,1000,1100],\n",
    "               'random_state' : [42]\n",
    "}\n",
    "\n",
    "gridcv = GridSearchCV(RandomForestRegressor(), parameters, n_jobs = -1,\n",
    "                      scoring = 'neg_mean_absolute_error',verbose =10, cv = 5)\n",
    "\n",
    "gridcv.fit(train_val_X,train_val_y)\n",
    "\n",
    "print(gridcv.score(train_val_X,train_val_y))\n",
    "print(gridcv.best_params_)"
   ]
  },
  {
   "cell_type": "code",
   "execution_count": 8,
   "metadata": {},
   "outputs": [
    {
     "name": "stdout",
     "output_type": "stream",
     "text": [
      "{'bootstrap': True, 'criterion': 'mse', 'max_depth': None, 'max_features': 'log2', 'n_estimators': 900, 'random_state': 42}\n"
     ]
    }
   ],
   "source": [
    "print(gridcv.best_params_)"
   ]
  },
  {
   "cell_type": "code",
   "execution_count": 6,
   "metadata": {},
   "outputs": [
    {
     "name": "stderr",
     "output_type": "stream",
     "text": [
      "C:\\Users\\entity\\Anaconda3\\envs\\capston_design\\lib\\site-packages\\ipykernel_launcher.py:5: DataConversionWarning: A column-vector y was passed when a 1d array was expected. Please change the shape of y to (n_samples,), for example using ravel().\n",
      "  \"\"\"\n"
     ]
    },
    {
     "data": {
      "text/plain": [
       "RandomForestRegressor(bootstrap=True, criterion='mae', max_depth=None,\n",
       "                      max_features='log2', max_leaf_nodes=None,\n",
       "                      min_impurity_decrease=0.0, min_impurity_split=None,\n",
       "                      min_samples_leaf=1, min_samples_split=2,\n",
       "                      min_weight_fraction_leaf=0.0, n_estimators=700,\n",
       "                      n_jobs=None, oob_score=False, random_state=42, verbose=0,\n",
       "                      warm_start=False)"
      ]
     },
     "execution_count": 6,
     "metadata": {},
     "output_type": "execute_result"
    }
   ],
   "source": [
    "r_reg_tokyo_model = RandomForestRegressor(bootstrap = True, criterion = 'mae',\n",
    "                                         max_depth = None, max_features = 'log2',\n",
    "                                         n_estimators = 700, random_state = 42)\n",
    "\n",
    "r_reg_tokyo_model.fit(train_X,train_y)"
   ]
  },
  {
   "cell_type": "code",
   "execution_count": 7,
   "metadata": {},
   "outputs": [
    {
     "name": "stdout",
     "output_type": "stream",
     "text": [
      "train mae : 8.595487673415823 , test mae : 21.01949756280465\n"
     ]
    }
   ],
   "source": [
    "train_pre = r_reg_tokyo_model.predict(train_X)\n",
    "train_mae = mean_absolute_error(train_pre,train_y)\n",
    "\n",
    "test_pre = r_reg_tokyo_model.predict(test_X)\n",
    "test_mae = mean_absolute_error(test_pre,test_y)\n",
    "\n",
    "print(\"train mae : %s , test mae : %s\" %(train_mae,test_mae))"
   ]
  },
  {
   "cell_type": "code",
   "execution_count": 8,
   "metadata": {},
   "outputs": [
    {
     "data": {
      "image/png": "[encoded data removed]",
      "text/plain": [
       "<Figure size 432x288 with 1 Axes>"
      ]
     },
     "metadata": {
      "needs_background": "light"
     },
     "output_type": "display_data"
    }
   ],
   "source": [
    "features = train_X.columns\n",
    "importances = r_reg_tokyo_model.feature_importances_\n",
    "indices = np.argsort(importances)\n",
    "\n",
    "plt.title('Feature Importances')\n",
    "plt.barh(range(len(indices)), importances[indices], color='b', align='center')\n",
    "plt.yticks(range(len(indices)), [features[i] for i in indices])\n",
    "plt.xlabel('Relative Importance')\n",
    "plt.show()"
   ]
  },
  {
   "cell_type": "code",
   "execution_count": 10,
   "metadata": {},
   "outputs": [
    {
     "data": {
      "text/plain": [
       "['RandomForest_tokyo_model']"
      ]
     },
     "execution_count": 10,
     "metadata": {},
     "output_type": "execute_result"
    }
   ],
   "source": [
    "from sklearn.externals import joblib\n",
    "joblib.dump(r_reg_tokyo_model,'RandomForest_tokyo_model')"
   ]
  },
  {
   "cell_type": "code",
   "execution_count": null,
   "metadata": {},
   "outputs": [],
   "source": []
  }
 ],
 "metadata": {
  "kernelspec": {
   "display_name": "Python 3",
   "language": "python",
   "name": "python3"
  },
  "language_info": {
   "codemirror_mode": {
    "name": "ipython",
    "version": 3
   },
   "file_extension": ".py",
   "mimetype": "text/x-python",
   "name": "python",
   "nbconvert_exporter": "python",
   "pygments_lexer": "ipython3",
   "version": "3.6.9"
  }
 },
 "nbformat": 4,
 "nbformat_minor": 2
}
