version https://git-lfs.github.com/spec/v1
oid sha256:6e8df2ee472d95ed047e3408c123897bd6869df6b8977f04836d5d693f08b7ca
size 31504
