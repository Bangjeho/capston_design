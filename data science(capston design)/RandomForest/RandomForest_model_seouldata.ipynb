{
 "cells": [
  {
   "cell_type": "code",
   "execution_count": 4,
   "metadata": {},
   "outputs": [],
   "source": [
    "import pandas as pd\n",
    "import matplotlib.pyplot as plt\n",
    "from sklearn.ensemble import RandomForestRegressor\n",
    "from sklearn.model_selection import GridSearchCV\n",
    "from sklearn.metrics import mean_absolute_error"
   ]
  },
  {
   "cell_type": "code",
   "execution_count": 6,
   "metadata": {},
   "outputs": [],
   "source": [
    "train_X = pd.read_csv('Su_train_X.csv')\n",
    "train_y = pd.read_csv('Su_train_y.csv')\n",
    "train_val_X = pd.read_csv('Su_train_val_X.csv')\n",
    "train_val_y = pd.read_csv('Su_train_val_y.csv')\n",
    "valid_X = pd.read_csv('Su_valid_X.csv')\n",
    "valid_y = pd.read_csv('Su_valid_y.csv')\n",
    "test_X = pd.read_csv('Su_test_X.csv')\n",
    "test_y = pd.read_csv('Su_test_y.csv')"
   ]
  },
  {
   "cell_type": "code",
   "execution_count": 7,
   "metadata": {},
   "outputs": [
    {
     "name": "stdout",
     "output_type": "stream",
     "text": [
      "Fitting 5 folds for each of 440 candidates, totalling 2200 fits\n"
     ]
    },
    {
     "name": "stderr",
     "output_type": "stream",
     "text": [
      "[Parallel(n_jobs=-1)]: Using backend LokyBackend with 8 concurrent workers.\n",
      "[Parallel(n_jobs=-1)]: Done   2 tasks      | elapsed:    3.1s\n",
      "[Parallel(n_jobs=-1)]: Done   9 tasks      | elapsed:    4.1s\n",
      "[Parallel(n_jobs=-1)]: Done  16 tasks      | elapsed:    5.8s\n",
      "[Parallel(n_jobs=-1)]: Done  25 tasks      | elapsed:    8.6s\n",
      "[Parallel(n_jobs=-1)]: Done  34 tasks      | elapsed:   15.7s\n",
      "[Parallel(n_jobs=-1)]: Done  45 tasks      | elapsed:   25.4s\n",
      "[Parallel(n_jobs=-1)]: Done  56 tasks      | elapsed:   32.7s\n",
      "[Parallel(n_jobs=-1)]: Done  69 tasks      | elapsed:   37.1s\n",
      "[Parallel(n_jobs=-1)]: Done  82 tasks      | elapsed:   44.5s\n",
      "[Parallel(n_jobs=-1)]: Done  97 tasks      | elapsed:   56.9s\n",
      "[Parallel(n_jobs=-1)]: Done 112 tasks      | elapsed:  1.1min\n",
      "[Parallel(n_jobs=-1)]: Done 129 tasks      | elapsed:  1.2min\n",
      "[Parallel(n_jobs=-1)]: Done 146 tasks      | elapsed:  1.4min\n",
      "[Parallel(n_jobs=-1)]: Done 165 tasks      | elapsed:  1.7min\n",
      "[Parallel(n_jobs=-1)]: Done 184 tasks      | elapsed:  1.8min\n",
      "[Parallel(n_jobs=-1)]: Done 205 tasks      | elapsed:  2.2min\n",
      "[Parallel(n_jobs=-1)]: Done 226 tasks      | elapsed:  2.6min\n",
      "[Parallel(n_jobs=-1)]: Done 249 tasks      | elapsed:  2.9min\n",
      "[Parallel(n_jobs=-1)]: Done 272 tasks      | elapsed:  3.3min\n",
      "[Parallel(n_jobs=-1)]: Done 297 tasks      | elapsed:  3.5min\n",
      "[Parallel(n_jobs=-1)]: Done 322 tasks      | elapsed:  3.6min\n",
      "[Parallel(n_jobs=-1)]: Done 349 tasks      | elapsed:  3.7min\n",
      "[Parallel(n_jobs=-1)]: Done 376 tasks      | elapsed:  3.9min\n",
      "[Parallel(n_jobs=-1)]: Done 405 tasks      | elapsed:  4.0min\n",
      "[Parallel(n_jobs=-1)]: Done 434 tasks      | elapsed:  4.2min\n",
      "[Parallel(n_jobs=-1)]: Done 465 tasks      | elapsed:  4.3min\n",
      "[Parallel(n_jobs=-1)]: Done 496 tasks      | elapsed:  4.5min\n",
      "[Parallel(n_jobs=-1)]: Done 529 tasks      | elapsed:  4.7min\n",
      "[Parallel(n_jobs=-1)]: Done 562 tasks      | elapsed:  5.3min\n",
      "[Parallel(n_jobs=-1)]: Done 597 tasks      | elapsed:  8.6min\n",
      "[Parallel(n_jobs=-1)]: Done 632 tasks      | elapsed: 10.6min\n",
      "[Parallel(n_jobs=-1)]: Done 669 tasks      | elapsed: 13.7min\n",
      "[Parallel(n_jobs=-1)]: Done 706 tasks      | elapsed: 16.9min\n",
      "[Parallel(n_jobs=-1)]: Done 745 tasks      | elapsed: 21.1min\n",
      "[Parallel(n_jobs=-1)]: Done 784 tasks      | elapsed: 27.5min\n",
      "[Parallel(n_jobs=-1)]: Done 825 tasks      | elapsed: 34.7min\n",
      "[Parallel(n_jobs=-1)]: Done 866 tasks      | elapsed: 36.8min\n",
      "[Parallel(n_jobs=-1)]: Done 909 tasks      | elapsed: 38.2min\n",
      "[Parallel(n_jobs=-1)]: Done 952 tasks      | elapsed: 39.8min\n",
      "[Parallel(n_jobs=-1)]: Done 997 tasks      | elapsed: 41.8min\n",
      "[Parallel(n_jobs=-1)]: Done 1042 tasks      | elapsed: 45.9min\n",
      "[Parallel(n_jobs=-1)]: Done 1089 tasks      | elapsed: 49.7min\n",
      "[Parallel(n_jobs=-1)]: Done 1136 tasks      | elapsed: 51.2min\n",
      "[Parallel(n_jobs=-1)]: Done 1185 tasks      | elapsed: 51.9min\n",
      "[Parallel(n_jobs=-1)]: Done 1234 tasks      | elapsed: 52.5min\n",
      "[Parallel(n_jobs=-1)]: Done 1285 tasks      | elapsed: 53.2min\n",
      "[Parallel(n_jobs=-1)]: Done 1336 tasks      | elapsed: 54.3min\n",
      "[Parallel(n_jobs=-1)]: Done 1389 tasks      | elapsed: 55.3min\n",
      "[Parallel(n_jobs=-1)]: Done 1442 tasks      | elapsed: 55.5min\n",
      "[Parallel(n_jobs=-1)]: Done 1497 tasks      | elapsed: 55.7min\n",
      "[Parallel(n_jobs=-1)]: Done 1552 tasks      | elapsed: 56.0min\n",
      "[Parallel(n_jobs=-1)]: Done 1609 tasks      | elapsed: 56.3min\n",
      "[Parallel(n_jobs=-1)]: Done 1666 tasks      | elapsed: 57.8min\n",
      "[Parallel(n_jobs=-1)]: Done 1725 tasks      | elapsed: 66.4min\n",
      "[Parallel(n_jobs=-1)]: Done 1784 tasks      | elapsed: 75.2min\n",
      "[Parallel(n_jobs=-1)]: Done 1845 tasks      | elapsed: 88.2min\n",
      "[Parallel(n_jobs=-1)]: Done 1906 tasks      | elapsed: 108.4min\n",
      "[Parallel(n_jobs=-1)]: Done 1969 tasks      | elapsed: 119.6min\n",
      "[Parallel(n_jobs=-1)]: Done 2032 tasks      | elapsed: 124.9min\n",
      "[Parallel(n_jobs=-1)]: Done 2097 tasks      | elapsed: 130.0min\n",
      "[Parallel(n_jobs=-1)]: Done 2162 tasks      | elapsed: 141.3min\n",
      "[Parallel(n_jobs=-1)]: Done 2200 out of 2200 | elapsed: 149.9min finished\n",
      "C:\\Users\\entity\\Anaconda3\\envs\\capston_design\\lib\\site-packages\\sklearn\\model_selection\\_search.py:715: DataConversionWarning: A column-vector y was passed when a 1d array was expected. Please change the shape of y to (n_samples,), for example using ravel().\n",
      "  self.best_estimator_.fit(X, y, **fit_params)\n"
     ]
    },
    {
     "name": "stdout",
     "output_type": "stream",
     "text": [
      "-6.184485907796202\n"
     ]
    },
    {
     "ename": "AttributeError",
     "evalue": "'GridSearchCV' object has no attribute 'best_params'",
     "output_type": "error",
     "traceback": [
      "\u001b[1;31m---------------------------------------------------------------------------\u001b[0m",
      "\u001b[1;31mAttributeError\u001b[0m                            Traceback (most recent call last)",
      "\u001b[1;32m<ipython-input-7-1b3e65c06733>\u001b[0m in \u001b[0;36m<module>\u001b[1;34m\u001b[0m\n\u001b[0;32m     13\u001b[0m \u001b[1;33m\u001b[0m\u001b[0m\n\u001b[0;32m     14\u001b[0m \u001b[0mprint\u001b[0m\u001b[1;33m(\u001b[0m\u001b[0mgridcv\u001b[0m\u001b[1;33m.\u001b[0m\u001b[0mscore\u001b[0m\u001b[1;33m(\u001b[0m\u001b[0mtrain_val_X\u001b[0m\u001b[1;33m,\u001b[0m\u001b[0mtrain_val_y\u001b[0m\u001b[1;33m)\u001b[0m\u001b[1;33m)\u001b[0m\u001b[1;33m\u001b[0m\u001b[1;33m\u001b[0m\u001b[0m\n\u001b[1;32m---> 15\u001b[1;33m \u001b[0mprint\u001b[0m\u001b[1;33m(\u001b[0m\u001b[0mgridcv\u001b[0m\u001b[1;33m.\u001b[0m\u001b[0mbest_params\u001b[0m\u001b[1;33m)\u001b[0m\u001b[1;33m\u001b[0m\u001b[1;33m\u001b[0m\u001b[0m\n\u001b[0m",
      "\u001b[1;31mAttributeError\u001b[0m: 'GridSearchCV' object has no attribute 'best_params'"
     ]
    }
   ],
   "source": [
    "parameters = { 'bootstrap' : [True,False],\n",
    "               'criterion' : ['mse','mae'],\n",
    "               'max_depth' : [None,3],\n",
    "               'max_features' : ['log2','sqrt',3,'auto',None],\n",
    "               'n_estimators' : [100,200,300,400,500,600,700,800,900,1000,1100],\n",
    "               'random_state' : [42]\n",
    "}\n",
    "\n",
    "gridcv = GridSearchCV(RandomForestRegressor(), parameters, n_jobs = -1,\n",
    "                      scoring = 'neg_mean_absolute_error',verbose =10, cv = 5)\n",
    "\n",
    "gridcv.fit(train_val_X,train_val_y)\n",
    "\n",
    "print(gridcv.score(train_val_X,train_val_y))\n",
    "print(gridcv.best_params_)"
   ]
  },
  {
   "cell_type": "code",
   "execution_count": 8,
   "metadata": {},
   "outputs": [
    {
     "name": "stdout",
     "output_type": "stream",
     "text": [
      "{'bootstrap': True, 'criterion': 'mse', 'max_depth': None, 'max_features': 'log2', 'n_estimators': 900, 'random_state': 42}\n"
     ]
    }
   ],
   "source": [
    "print(gridcv.best_params_)"
   ]
  },
  {
   "cell_type": "code",
   "execution_count": 10,
   "metadata": {},
   "outputs": [
    {
     "name": "stderr",
     "output_type": "stream",
     "text": [
      "C:\\Users\\entity\\Anaconda3\\envs\\capston_design\\lib\\site-packages\\ipykernel_launcher.py:5: DataConversionWarning: A column-vector y was passed when a 1d array was expected. Please change the shape of y to (n_samples,), for example using ravel().\n",
      "  \"\"\"\n"
     ]
    },
    {
     "data": {
      "text/plain": [
       "RandomForestRegressor(bootstrap=True, criterion='mse', max_depth=None,\n",
       "                      max_features='log2', max_leaf_nodes=None,\n",
       "                      min_impurity_decrease=0.0, min_impurity_split=None,\n",
       "                      min_samples_leaf=1, min_samples_split=2,\n",
       "                      min_weight_fraction_leaf=0.0, n_estimators=900,\n",
       "                      n_jobs=None, oob_score=False, random_state=42, verbose=0,\n",
       "                      warm_start=False)"
      ]
     },
     "execution_count": 10,
     "metadata": {},
     "output_type": "execute_result"
    }
   ],
   "source": [
    "r_reg_seoul_model = RandomForestRegressor(bootstrap = True, criterion = 'mse',\n",
    "                                         max_depth = None, max_features = 'log2',\n",
    "                                         n_estimators = 900, random_state = 42)\n",
    "\n",
    "r_reg_seoul_model.fit(train_X,train_y)"
   ]
  },
  {
   "cell_type": "code",
   "execution_count": 11,
   "metadata": {},
   "outputs": [
    {
     "name": "stdout",
     "output_type": "stream",
     "text": [
      "train mae : 5.710602193589189 , test mae : 16.287907963716044\n"
     ]
    }
   ],
   "source": [
    "train_pre = r_reg_seoul_model.predict(train_X)\n",
    "train_mae = mean_absolute_error(train_pre,train_y)\n",
    "\n",
    "test_pre = r_reg_seoul_model.predict(test_X)\n",
    "test_mae = mean_absolute_error(test_pre,test_y)\n",
    "\n",
    "print(\"train mae : %s , test mae : %s\" %(train_mae,test_mae))"
   ]
  },
  {
   "cell_type": "code",
   "execution_count": 12,
   "metadata": {},
   "outputs": [
    {
     "data": {
      "text/plain": [
       "['RandomForest_seoul_model']"
      ]
     },
     "execution_count": 12,
     "metadata": {},
     "output_type": "execute_result"
    }
   ],
   "source": [
    "from sklearn.externals import joblib\n",
    "joblib.dump(r_reg_seoul_model,'RandomForest_seoul_model')"
   ]
  },
  {
   "cell_type": "code",
   "execution_count": null,
   "metadata": {},
   "outputs": [],
   "source": []
  }
 ],
 "metadata": {
  "kernelspec": {
   "display_name": "Python 3",
   "language": "python",
   "name": "python3"
  },
  "language_info": {
   "codemirror_mode": {
    "name": "ipython",
    "version": 3
   },
   "file_extension": ".py",
   "mimetype": "text/x-python",
   "name": "python",
   "nbconvert_exporter": "python",
   "pygments_lexer": "ipython3",
   "version": "3.6.9"
  }
 },
 "nbformat": 4,
 "nbformat_minor": 2
}
