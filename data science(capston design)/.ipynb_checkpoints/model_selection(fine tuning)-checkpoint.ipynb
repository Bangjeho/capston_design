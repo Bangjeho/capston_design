{
 "cells": [
  {
   "cell_type": "code",
   "execution_count": 1,
   "metadata": {},
   "outputs": [],
   "source": [
    "import pandas as pd\n",
    "import numpy as np\n",
    "from sklearn import tree\n",
    "from sklearn.metrics import mean_absolute_error\n",
    "from sklearn.ensemble import RandomForestRegressor\n",
    "from sklearn.neural_network import MLPRegressor\n",
    "from sklearn.svm import SVC\n",
    "from sklearn.model_selection import GridSearchCV"
   ]
  },
  {
   "cell_type": "code",
   "execution_count": 9,
   "metadata": {},
   "outputs": [],
   "source": [
    "train_X = pd.read_csv('train_X.csv')\n",
    "train_y = pd.read_csv('train_y.csv')\n",
    "test_X = pd.read_csv('test_X.csv')\n",
    "test_y = pd.read_csv('test_y.csv')"
   ]
  },
  {
   "cell_type": "code",
   "execution_count": null,
   "metadata": {},
   "outputs": [],
   "source": [
    "#decision tree\n",
    "dlf = tree.DecisionTreeRegressor()\n",
    "dlf.fit(train_X,train_y)"
   ]
  },
  {
   "cell_type": "code",
   "execution_count": null,
   "metadata": {},
   "outputs": [],
   "source": [
    "# decision tree Mean Absolute error rate\n",
    "predictions = dlf.predict(train_X)\n",
    "mae = mean_absolute_error(train_y,predictions)\n",
    "mae"
   ]
  },
  {
   "cell_type": "code",
   "execution_count": null,
   "metadata": {},
   "outputs": [],
   "source": [
    "#random forest\n",
    "r_reg = RandomForestRegressor(random_state=42)\n",
    "r_reg.fit(train_X,train_y)"
   ]
  },
  {
   "cell_type": "code",
   "execution_count": null,
   "metadata": {},
   "outputs": [],
   "source": [
    "#random forest Mean Absolute error rate\n",
    "predictions = r_reg.predict(train_X)\n",
    "mae = mean_absolute_error(train_y,predictions)\n",
    "mae"
   ]
  },
  {
   "cell_type": "code",
   "execution_count": null,
   "metadata": {},
   "outputs": [],
   "source": [
    "#Multilayer perceptron\n",
    "mlp = MLPRegressor()\n",
    "mlp.fit(train_X,train_y)"
   ]
  },
  {
   "cell_type": "code",
   "execution_count": null,
   "metadata": {},
   "outputs": [],
   "source": [
    "#MLP Mean Absolute error rate\n",
    "predictions = mlp.predict(train_X)\n",
    "mae = mean_absolute_error(train_y,predictions)\n",
    "mae"
   ]
  },
  {
   "cell_type": "code",
   "execution_count": null,
   "metadata": {},
   "outputs": [],
   "source": [
    "#Support vector machine\n",
    "svm = SVC()\n",
    "svm.fit(train_X,train_y)"
   ]
  },
  {
   "cell_type": "code",
   "execution_count": null,
   "metadata": {},
   "outputs": [],
   "source": [
    "#SVM Mean Absolute error rate\n",
    "predictions = svm.predict(train_X)\n",
    "mae = mean_absolute_error(train_y,predictions)\n",
    "mae"
   ]
  },
  {
   "cell_type": "code",
   "execution_count": null,
   "metadata": {},
   "outputs": [],
   "source": [
    "#set parameters\n",
    "parameters = {\n",
    "              'activation' : ['identity', 'logistic', 'tanh', 'relu'],\n",
    "              'max_iter': [100,200,500,1000],\n",
    "              'alpha': 10.0 ** -np.arange(1, 6),\n",
    "              'learning_rate' : ['constant', 'invscaling', 'adaptive'],\n",
    "              'batch_size' :[25,50,100,256,512],\n",
    "              'hidden_layer_sizes': np.arange(1, 51),\n",
    "              'random_state':[0]}\n",
    "\n",
    "#set gridsearchCV(CrossValidation)\n",
    "gsmlp = GridSearchCV(MLPRegressor(), parameters, n_jobs-1,\n",
    "                     scoring = 'neg_mean_absolute_error',verbose = 10, cv = 5)\n",
    "\n",
    "#learning\n",
    "gsmlp.fit(train_X,train_y)\n",
    "\n",
    "#find best hyperparamiters\n",
    "print(gsmlp.score(train_X,train_y))\n",
    "print(gsmlp.best_params_)"
   ]
  },
  {
   "cell_type": "code",
   "execution_count": null,
   "metadata": {},
   "outputs": [],
   "source": [
    "#two hidden layer\n",
    "hidden_layer_numbers = []\n",
    "\n",
    "for i in range(1,51):\n",
    "    for j in range(1,51):\n",
    "        hidden_layer_numbers.append([i,j])\n",
    "\n",
    "#set parameters        \n",
    "parameters = {\n",
    "              'activation' : ['identity', 'logistic', 'tanh', 'relu'],\n",
    "              'max_iter': [100,200,500,1000],\n",
    "              'alpha': 10.0 ** -np.arange(1, 6),\n",
    "              'learning_rate' : ['constant', 'invscaling', 'adaptive'],\n",
    "              'batch_size' :[1,10,25,50,100,256,512],\n",
    "              'hidden_layer_sizes' : hidden_layer_numbers,\n",
    "              'random_state':[0]}\n",
    "\n",
    "#set gridsearchCV(CrossValidation)\n",
    "gsmlp = GridSearchCV(MLPRegressor(), parameters, n_jobs=-1,\n",
    "                     scoring = 'neg_mean_absolute_error',verbose = 10, cv = 5)\n",
    "\n",
    "#learning\n",
    "gsmlp.fit(train_X,train_y)\n",
    "\n",
    "#find best hyperparamiters\n",
    "print(gsmlp.score(train_X,train_y))\n",
    "print(gsmlp.best_params_)"
   ]
  }
 ],
 "metadata": {
  "kernelspec": {
   "display_name": "Python 3",
   "language": "python",
   "name": "python3"
  },
  "language_info": {
   "codemirror_mode": {
    "name": "ipython",
    "version": 3
   },
   "file_extension": ".py",
   "mimetype": "text/x-python",
   "name": "python",
   "nbconvert_exporter": "python",
   "pygments_lexer": "ipython3",
   "version": "3.6.9"
  }
 },
 "nbformat": 4,
 "nbformat_minor": 2
}
