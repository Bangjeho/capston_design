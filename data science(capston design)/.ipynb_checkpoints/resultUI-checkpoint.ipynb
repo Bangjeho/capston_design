version https://git-lfs.github.com/spec/v1
oid sha256:f7ef9693f23344d24fa852dc7c9970737e1d18de850a78b7e0545c3a4ea7e755
size 1638
