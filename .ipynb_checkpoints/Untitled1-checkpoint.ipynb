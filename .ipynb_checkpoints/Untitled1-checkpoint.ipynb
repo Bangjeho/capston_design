version https://git-lfs.github.com/spec/v1
oid sha256:185b671122778a380d52fa14be807e1b7b86401b1feb5fd76be236cfdce0b7ff
size 1507
