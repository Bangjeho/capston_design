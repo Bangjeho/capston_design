version https://git-lfs.github.com/spec/v1
oid sha256:87de807ec65a2036fadd51e71ed17d63f3475593a3aab631536a96daf9409bc0
size 894
